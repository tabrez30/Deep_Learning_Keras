{
 "cells": [
  {
   "cell_type": "markdown",
   "metadata": {},
   "source": [
    "Let's start by importing Keras and some of its modules."
   ]
  },
  {
   "cell_type": "markdown",
   "metadata": {},
   "source": [
    "#### All Libraries required for this code are listed below.\n",
    "\n",
    "1. pip install numpy==1.21.4 \n",
    "1. pip install pandas==1.3.4 \n",
    "1. pip install keras==2.1.6 \n",
    "\n"
   ]
  },
  {
   "cell_type": "code",
   "execution_count": null,
   "metadata": {},
   "outputs": [],
   "source": [
    "import pandas as pd\n",
    "import numpy as np\n",
    "import keras "
   ]
  },
  {
   "cell_type": "markdown",
   "metadata": {},
   "source": [
    "\n",
    "\n",
    "<strong>The dataset is about the compressive strength of different samples of concrete based on the volumes of the different ingredients that were used to make them. Ingredients include:</strong>\n",
    "\n",
    "1. Cement\n",
    "\n",
    "2. Blast Furnace Slag\n",
    "\n",
    "3. Fly Ash\n",
    "\n",
    "4. Water\n",
    "\n",
    "5. Superplasticizer\n",
    "\n",
    "6. Coarse Aggregate\n",
    "\n",
    "7. Fine Aggregate\n"
   ]
  },
  {
   "cell_type": "markdown",
   "metadata": {},
   "source": [
    "Let's download the data and read it into a <em>pandas</em> dataframe.\n",
    "m"
   ]
  },
  {
   "cell_type": "code",
   "execution_count": null,
   "metadata": {},
   "outputs": [],
   "source": [
    "concrete_data = pd.read_csv('https://s3-api.us-geo.objectstorage.softlayer.net/cf-courses-data/CognitiveClass/DL0101EN/labs/data/concrete_data.csv')\n",
    "concrete_data.head()"
   ]
  },
  {
   "cell_type": "markdown",
   "metadata": {},
   "source": [
    "Let's check the dataset for any missing values."
   ]
  },
  {
   "cell_type": "code",
   "execution_count": null,
   "metadata": {},
   "outputs": [],
   "source": [
    "concrete_data.isnull().sum()"
   ]
  },
  {
   "cell_type": "markdown",
   "metadata": {},
   "source": [
    "#### Split data into predictors and target\n",
    "\n",
    "The target variable in this problem is the concrete sample strength. Therefore, our predictors will be all the other columns.\n"
   ]
  },
  {
   "cell_type": "code",
   "execution_count": null,
   "metadata": {},
   "outputs": [],
   "source": [
    "concrete_data_columns = concrete_data.columns\n",
    "\n",
    "predictors = concrete_data[concrete_data_columns[concrete_data_columns != 'Strength']] # all columns except Strength\n",
    "target = concrete_data['Strength'] # Strength column"
   ]
  },
  {
   "cell_type": "markdown",
   "metadata": {},
   "source": [
    "Finally, the last step is to normalize the data by substracting the mean and dividing by the standard deviation.\n"
   ]
  },
  {
   "cell_type": "code",
   "execution_count": null,
   "metadata": {},
   "outputs": [],
   "source": [
    "predictors_norm = (predictors - predictors.mean()) / predictors.std()\n",
    "predictors_norm.head()"
   ]
  },
  {
   "cell_type": "markdown",
   "metadata": {},
   "source": [
    "Let's save the number of predictors to *n_cols* since we will need this number when building our network.\n"
   ]
  },
  {
   "cell_type": "code",
   "execution_count": null,
   "metadata": {},
   "outputs": [],
   "source": [
    "n_cols = predictors_norm.shape[1] # number of predictors"
   ]
  },
  {
   "cell_type": "markdown",
   "metadata": {},
   "source": [
    "Let's import the rest of the packages from the Keras library that we will need to build our regressoin model."
   ]
  },
  {
   "cell_type": "code",
   "execution_count": 22,
   "metadata": {},
   "outputs": [],
   "source": [
    "from keras.models import Sequential\n",
    "from keras.layers import Dense"
   ]
  },
  {
   "cell_type": "markdown",
   "metadata": {},
   "source": [
    "#### Build a Neural Network"
   ]
  },
  {
   "cell_type": "markdown",
   "metadata": {},
   "source": [
    "Let's define a function that defines our regression model for us so that we can conveniently call it to create our model.\n"
   ]
  },
  {
   "cell_type": "code",
   "execution_count": 23,
   "metadata": {},
   "outputs": [],
   "source": [
    "# define regression model\n",
    "def regression_model():\n",
    "    # create model\n",
    "    model = Sequential()\n",
    "    model.add(Dense(50, activation='relu', input_shape=(n_cols,)))\n",
    "    model.add(Dense(50, activation='relu'))\n",
    "    model.add(Dense(1))\n",
    "    \n",
    "    # compile model\n",
    "    model.compile(optimizer='adam', loss='mean_squared_error')\n",
    "    return model"
   ]
  },
  {
   "cell_type": "markdown",
   "metadata": {},
   "source": [
    "#### Train and Test the Network\n",
    "Let's call the function now to create our model."
   ]
  },
  {
   "cell_type": "code",
   "execution_count": 24,
   "metadata": {},
   "outputs": [],
   "source": [
    "# build the model\n",
    "model = regression_model()"
   ]
  },
  {
   "cell_type": "markdown",
   "metadata": {},
   "source": [
    "Next, we will train and test the model at the same time using the *fit* method. We will leave out 30% of the data for validation and we will train the model for 100 epochs.\n"
   ]
  },
  {
   "cell_type": "code",
   "execution_count": 25,
   "metadata": {
    "collapsed": true
   },
   "outputs": [
    {
     "name": "stdout",
     "output_type": "stream",
     "text": [
      "WARNING:tensorflow:From /home/malam/anaconda3/lib/python3.7/site-packages/keras/backend/tensorflow_backend.py:422: The name tf.global_variables is deprecated. Please use tf.compat.v1.global_variables instead.\n",
      "\n",
      "Train on 721 samples, validate on 309 samples\n",
      "Epoch 1/100\n",
      " - 0s - loss: 1651.6997 - val_loss: 1130.5223\n",
      "Epoch 2/100\n",
      " - 0s - loss: 1501.2904 - val_loss: 993.0964\n",
      "Epoch 3/100\n",
      " - 0s - loss: 1276.1609 - val_loss: 790.2461\n",
      "Epoch 4/100\n",
      " - 0s - loss: 959.1902 - val_loss: 545.7730\n",
      "Epoch 5/100\n",
      " - 0s - loss: 610.9006 - val_loss: 323.7951\n",
      "Epoch 6/100\n",
      " - 0s - loss: 363.5183 - val_loss: 197.5356\n",
      "Epoch 7/100\n",
      " - 0s - loss: 265.4420 - val_loss: 170.5702\n",
      "Epoch 8/100\n",
      " - 0s - loss: 239.6732 - val_loss: 165.2042\n",
      "Epoch 9/100\n",
      " - 0s - loss: 224.4496 - val_loss: 168.4186\n",
      "Epoch 10/100\n",
      " - 0s - loss: 213.0107 - val_loss: 162.5400\n",
      "Epoch 11/100\n",
      " - 0s - loss: 203.2983 - val_loss: 160.8004\n",
      "Epoch 12/100\n",
      " - 0s - loss: 195.8051 - val_loss: 157.3651\n",
      "Epoch 13/100\n",
      " - 0s - loss: 189.7138 - val_loss: 154.9731\n",
      "Epoch 14/100\n",
      " - 0s - loss: 184.2223 - val_loss: 153.1730\n",
      "Epoch 15/100\n",
      " - 0s - loss: 178.8049 - val_loss: 153.6160\n",
      "Epoch 16/100\n",
      " - 0s - loss: 174.6975 - val_loss: 149.8754\n",
      "Epoch 17/100\n",
      " - 0s - loss: 170.6029 - val_loss: 150.6921\n",
      "Epoch 18/100\n",
      " - 0s - loss: 167.0975 - val_loss: 148.9451\n",
      "Epoch 19/100\n",
      " - 0s - loss: 164.0082 - val_loss: 146.5630\n",
      "Epoch 20/100\n",
      " - 0s - loss: 161.0386 - val_loss: 147.1079\n",
      "Epoch 21/100\n",
      " - 0s - loss: 158.6080 - val_loss: 148.0159\n",
      "Epoch 22/100\n",
      " - 0s - loss: 156.0898 - val_loss: 147.2946\n",
      "Epoch 23/100\n",
      " - 0s - loss: 153.7548 - val_loss: 146.6957\n",
      "Epoch 24/100\n",
      " - 0s - loss: 151.9674 - val_loss: 144.0217\n",
      "Epoch 25/100\n",
      " - 0s - loss: 149.4608 - val_loss: 146.1512\n",
      "Epoch 26/100\n",
      " - 0s - loss: 147.2760 - val_loss: 146.2029\n",
      "Epoch 27/100\n",
      " - 0s - loss: 145.4157 - val_loss: 145.3301\n",
      "Epoch 28/100\n",
      " - 0s - loss: 143.3263 - val_loss: 146.2005\n",
      "Epoch 29/100\n",
      " - 0s - loss: 141.6322 - val_loss: 146.5642\n",
      "Epoch 30/100\n",
      " - 0s - loss: 139.6460 - val_loss: 147.4259\n",
      "Epoch 31/100\n",
      " - 0s - loss: 137.8257 - val_loss: 145.4255\n",
      "Epoch 32/100\n",
      " - 0s - loss: 136.2260 - val_loss: 147.7021\n",
      "Epoch 33/100\n",
      " - 0s - loss: 134.3967 - val_loss: 148.9597\n",
      "Epoch 34/100\n",
      " - 0s - loss: 132.2862 - val_loss: 146.5894\n",
      "Epoch 35/100\n",
      " - 0s - loss: 130.1210 - val_loss: 147.4148\n",
      "Epoch 36/100\n",
      " - 0s - loss: 129.0387 - val_loss: 145.6096\n",
      "Epoch 37/100\n",
      " - 0s - loss: 126.4307 - val_loss: 149.0114\n",
      "Epoch 38/100\n",
      " - 0s - loss: 125.6092 - val_loss: 148.1924\n",
      "Epoch 39/100\n",
      " - 0s - loss: 123.0007 - val_loss: 146.4876\n",
      "Epoch 40/100\n",
      " - 0s - loss: 121.5506 - val_loss: 145.6628\n",
      "Epoch 41/100\n",
      " - 0s - loss: 119.2112 - val_loss: 147.2748\n",
      "Epoch 42/100\n",
      " - 0s - loss: 116.9822 - val_loss: 144.0176\n",
      "Epoch 43/100\n",
      " - 0s - loss: 115.0472 - val_loss: 145.2630\n",
      "Epoch 44/100\n",
      " - 0s - loss: 113.0452 - val_loss: 147.6231\n",
      "Epoch 45/100\n",
      " - 0s - loss: 110.8855 - val_loss: 142.7275\n",
      "Epoch 46/100\n",
      " - 0s - loss: 108.2877 - val_loss: 141.2078\n",
      "Epoch 47/100\n",
      " - 0s - loss: 105.5060 - val_loss: 143.5596\n",
      "Epoch 48/100\n",
      " - 0s - loss: 103.2285 - val_loss: 144.6036\n",
      "Epoch 49/100\n",
      " - 0s - loss: 100.4376 - val_loss: 140.2066\n",
      "Epoch 50/100\n",
      " - 0s - loss: 98.2159 - val_loss: 137.4267\n",
      "Epoch 51/100\n",
      " - 0s - loss: 95.9376 - val_loss: 136.3295\n",
      "Epoch 52/100\n",
      " - 0s - loss: 92.8615 - val_loss: 137.5621\n",
      "Epoch 53/100\n",
      " - 0s - loss: 90.0359 - val_loss: 129.4085\n",
      "Epoch 54/100\n",
      " - 0s - loss: 87.1631 - val_loss: 130.8437\n",
      "Epoch 55/100\n",
      " - 0s - loss: 83.5356 - val_loss: 131.0486\n",
      "Epoch 56/100\n",
      " - 0s - loss: 80.3173 - val_loss: 130.1692\n",
      "Epoch 57/100\n",
      " - 0s - loss: 76.8729 - val_loss: 128.4176\n",
      "Epoch 58/100\n",
      " - 0s - loss: 74.1187 - val_loss: 125.4819\n",
      "Epoch 59/100\n",
      " - 0s - loss: 71.4001 - val_loss: 118.6881\n",
      "Epoch 60/100\n",
      " - 0s - loss: 68.3125 - val_loss: 119.2539\n",
      "Epoch 61/100\n",
      " - 0s - loss: 65.0955 - val_loss: 117.6521\n",
      "Epoch 62/100\n",
      " - 0s - loss: 62.9345 - val_loss: 124.0391\n",
      "Epoch 63/100\n",
      " - 0s - loss: 60.6004 - val_loss: 115.5032\n",
      "Epoch 64/100\n",
      " - 0s - loss: 58.8395 - val_loss: 116.8214\n",
      "Epoch 65/100\n",
      " - 0s - loss: 56.2108 - val_loss: 115.4683\n",
      "Epoch 66/100\n",
      " - 0s - loss: 54.7208 - val_loss: 113.6708\n",
      "Epoch 67/100\n",
      " - 0s - loss: 52.9871 - val_loss: 110.6899\n",
      "Epoch 68/100\n",
      " - 0s - loss: 51.0250 - val_loss: 111.9487\n",
      "Epoch 69/100\n",
      " - 0s - loss: 49.5711 - val_loss: 110.3970\n",
      "Epoch 70/100\n",
      " - 0s - loss: 48.4134 - val_loss: 109.9180\n",
      "Epoch 71/100\n",
      " - 0s - loss: 47.5738 - val_loss: 108.3717\n",
      "Epoch 72/100\n",
      " - 0s - loss: 46.4743 - val_loss: 114.8693\n",
      "Epoch 73/100\n",
      " - 0s - loss: 45.0635 - val_loss: 111.5423\n",
      "Epoch 74/100\n",
      " - 0s - loss: 44.1316 - val_loss: 118.9786\n",
      "Epoch 75/100\n",
      " - 0s - loss: 43.0168 - val_loss: 113.3560\n",
      "Epoch 76/100\n",
      " - 0s - loss: 42.8414 - val_loss: 119.3711\n",
      "Epoch 77/100\n",
      " - 0s - loss: 42.0335 - val_loss: 121.6509\n",
      "Epoch 78/100\n",
      " - 0s - loss: 41.0399 - val_loss: 111.8173\n",
      "Epoch 79/100\n",
      " - 0s - loss: 40.5013 - val_loss: 120.1034\n",
      "Epoch 80/100\n",
      " - 0s - loss: 40.0461 - val_loss: 121.9827\n",
      "Epoch 81/100\n",
      " - 0s - loss: 38.9569 - val_loss: 122.5337\n",
      "Epoch 82/100\n",
      " - 0s - loss: 38.1342 - val_loss: 115.2466\n",
      "Epoch 83/100\n",
      " - 0s - loss: 37.8766 - val_loss: 117.8736\n",
      "Epoch 84/100\n",
      " - 0s - loss: 37.3340 - val_loss: 121.7431\n",
      "Epoch 85/100\n",
      " - 0s - loss: 36.7755 - val_loss: 126.3812\n",
      "Epoch 86/100\n",
      " - 0s - loss: 36.2701 - val_loss: 112.8905\n",
      "Epoch 87/100\n",
      " - 0s - loss: 36.7300 - val_loss: 118.7134\n",
      "Epoch 88/100\n",
      " - 0s - loss: 35.6113 - val_loss: 122.2890\n",
      "Epoch 89/100\n",
      " - 0s - loss: 35.2589 - val_loss: 118.1661\n",
      "Epoch 90/100\n",
      " - 0s - loss: 34.7630 - val_loss: 129.6731\n",
      "Epoch 91/100\n",
      " - 0s - loss: 33.7223 - val_loss: 116.4077\n",
      "Epoch 92/100\n",
      " - 0s - loss: 34.3614 - val_loss: 130.4795\n",
      "Epoch 93/100\n",
      " - 0s - loss: 33.3499 - val_loss: 127.7589\n",
      "Epoch 94/100\n",
      " - 0s - loss: 32.8500 - val_loss: 121.1003\n",
      "Epoch 95/100\n",
      " - 0s - loss: 32.7732 - val_loss: 125.7328\n",
      "Epoch 96/100\n",
      " - 0s - loss: 32.5250 - val_loss: 131.7696\n",
      "Epoch 97/100\n",
      " - 0s - loss: 31.9888 - val_loss: 125.7035\n",
      "Epoch 98/100\n",
      " - 0s - loss: 31.6510 - val_loss: 121.1808\n",
      "Epoch 99/100\n",
      " - 0s - loss: 31.5280 - val_loss: 123.4331\n",
      "Epoch 100/100\n",
      " - 0s - loss: 31.1180 - val_loss: 122.6568\n"
     ]
    },
    {
     "data": {
      "text/plain": [
       "<keras.callbacks.callbacks.History at 0x7f82799c2358>"
      ]
     },
     "execution_count": 25,
     "metadata": {},
     "output_type": "execute_result"
    }
   ],
   "source": [
    "# fit the model\n",
    "model.fit(predictors_norm, target, validation_split=0.3, epochs=100, verbose=2)"
   ]
  }
 ],
 "metadata": {
  "kernelspec": {
   "display_name": "Python 3",
   "language": "python",
   "name": "python3"
  },
  "language_info": {
   "codemirror_mode": {
    "name": "ipython",
    "version": 3
   },
   "file_extension": ".py",
   "mimetype": "text/x-python",
   "name": "python",
   "nbconvert_exporter": "python",
   "pygments_lexer": "ipython3",
   "version": "3.7.3"
  }
 },
 "nbformat": 4,
 "nbformat_minor": 2
}
